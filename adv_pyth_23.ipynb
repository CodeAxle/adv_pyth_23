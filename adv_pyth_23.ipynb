{
 "cells": [
  {
   "cell_type": "markdown",
   "id": "131410d2",
   "metadata": {},
   "source": [
    "# 1."
   ]
  },
  {
   "cell_type": "code",
   "execution_count": 1,
   "id": "e159044a",
   "metadata": {},
   "outputs": [],
   "source": [
    "# There are several strategies you can use to improve the comparison between different figures on the same graph:\n",
    "\n",
    "# a) Choose the Right Chart Type:\n",
    "# 1. Bar Charts: Great for comparing discrete categories or groups.\n",
    "# 2. Line Charts: Effective for showing trends and continuous data changes over time.\n",
    "# 3. Stacked Bar Charts: Useful for visualizing how parts contribute to a whole.\n",
    "# 4. Area Charts: Can emphasize the magnitude of change over time for multiple datasets.\n",
    "    \n",
    "# b) Standardize Axes and Scales:\n",
    "# 1. Consistent Scales: Use the same scale on both axes (if applicable) to allow for direct visual comparison.\n",
    "# 2. Logarithmic Scales: Consider log scales for data with a wide range of values to compress large values and emphasize \n",
    "#     smaller differences.\n",
    "    \n",
    "# c) Emphasize Data Points:\n",
    "# 1. Color Coding: Assign distinct colors to each data series for easy differentiation.\n",
    "# 2. Markers and Line Styles: Use different marker shapes or line styles to distinguish between data sets.\n",
    "# 3. Data Labels: Annotate data points directly on the graph for clarity, especially for overlapping areas.\n",
    "    \n",
    "# c) Highlight Key Comparisons:\n",
    "# 1. Reference Lines or Areas: Add horizontal or vertical lines to indicate important reference values (e.g., averages, targets).\n",
    "# 2. Shading or Highlighting: Shade specific areas of the graph to draw attention to comparisons between datasets.\n",
    "    \n",
    "# d) Leverage Legends and Annotations:\n",
    "# 1. Clear and Concise Legend: Ensure your legend is easy to understand and visually linked to the data on the graph.\n",
    "# 2. Informative Annotations: Add annotations to highlight specific comparisons, trends, or outliers.\n",
    "    \n",
    "# e) Consider Additional Visual Cues:\n",
    "# 1. Error Bars: Show the variability or uncertainty around data points for more comprehensive comparisons.\n",
    "# 2. Boxplots: Can summarize the distribution of data points for multiple groups in a compact way."
   ]
  },
  {
   "cell_type": "markdown",
   "id": "def4ad85",
   "metadata": {},
   "source": [
    "# 2."
   ]
  },
  {
   "cell_type": "code",
   "execution_count": 2,
   "id": "20126556",
   "metadata": {},
   "outputs": [],
   "source": [
    "# Compound Interest vs. Simple Interest:\n",
    "\n",
    "# a) Compound Interest: Interest is earned on both the initial principal amount and the accumulated interest from previous periods.\n",
    "#     It's like a snowball effect, growing your money exponentially over time.\n",
    "\n",
    "# b) Simple Interest: Interest is only earned on the initial principal amount for each period. It's a linear growth pattern.\n",
    "\n",
    "    \n",
    "# Benefits of Compound Interest:\n",
    "# 1. Exponential Growth: Over extended periods, compounding interest leads to significantly larger returns compared to \n",
    "#     simple interest. Even a small difference in interest rate can translate to a substantial difference in total earnings \n",
    "#     due to compounding.\n",
    "# 2. \"Interest on Interest\": You earn interest not just on your initial investment, but also on the interest you've\n",
    "#     already earned. This accelerates growth as time goes by.\n",
    "# 3. Time Advantage: The longer your money is invested and compounding, the greater the benefit. Starting to invest early\n",
    "#     allows you to leverage the power of compounding for a longer period.\n",
    "\n",
    "\n",
    "# Example:\n",
    "# Imagine two scenarios:\n",
    "\n",
    "# Scenario A: Invest $1000 at a 5% annual interest rate that compounds annually.\n",
    "# Scenario B: Invest $1000 at a 6% annual interest rate with simple interest (no compounding).\n",
    "# After 10 years:\n",
    "\n",
    "# Scenario A (Compound Interest): You'll have approximately $1,628.89 due to compounding interest earned on both the initial \n",
    "#  investment and accumulated interest from previous years.\n",
    "# Scenario B (Simple Interest): You'll only have $1,600, which is the principal amount plus 10 years of simple interest at \n",
    "#  6% each year."
   ]
  },
  {
   "cell_type": "markdown",
   "id": "e9a28d00",
   "metadata": {},
   "source": [
    "# 3."
   ]
  },
  {
   "cell_type": "code",
   "execution_count": 6,
   "id": "92aad976",
   "metadata": {},
   "outputs": [
    {
     "data": {
      "image/png": "[encoded data removed]",
      "text/plain": [
       "<Figure size 640x480 with 1 Axes>"
      ]
     },
     "metadata": {},
     "output_type": "display_data"
    }
   ],
   "source": [
    "# A histogram is a visualization tool used to represent the frequency distribution of numerical data. It depicts the number\n",
    "# of data points that fall within specific ranges of values, called bins. It appears as a series of bars, where the height \n",
    "# of each bar represents the number of data points within that particular bin.\n",
    "\n",
    "# Here are some key characteristics of a histogram:\n",
    "\n",
    "# 1. X-axis: Represents the range of values your data can take, typically divided into bins (intervals).\n",
    "# 2. Y-axis: Represents the frequency or count of data points that fall within each bin.\n",
    "# 3. Bars: Each bar corresponds to a specific bin and its height reflects the number of data points within that bin.\n",
    "# 4. Bins: These are the pre-defined intervals into which your data is categorized. The choice of bin size and number of \n",
    "#     bins can affect the shape of the histogram.\n",
    "    \n",
    "# example:\n",
    "import numpy as np\n",
    "import matplotlib.pyplot as plt\n",
    "\n",
    "# Generate some random data for demonstration purposes\n",
    "data = np.random.randn(1000)  # Normal distribution with mean 0 and standard deviation 1\n",
    "\n",
    "# Specify the number of bins for the histogram\n",
    "number_of_bins = 30\n",
    "\n",
    "# Create the histogram\n",
    "counts, bins = np.histogram(data, bins=number_of_bins)\n",
    "\n",
    "# Plot the histogram using matplotlib\n",
    "plt.bar(bins[:-1], counts, width=np.diff(bins), align='edge')  # Use np.diff(bins) for variable bin widths\n",
    "plt.xlabel(\"Value\")\n",
    "plt.ylabel(\"Frequency\")\n",
    "plt.title(\"Histogram of Random Data (Normal Distribution)\")\n",
    "plt.grid(True)\n",
    "plt.show()"
   ]
  },
  {
   "cell_type": "markdown",
   "id": "a3d344a1",
   "metadata": {},
   "source": [
    "# 4."
   ]
  },
  {
   "cell_type": "code",
   "execution_count": 7,
   "id": "f85c8706",
   "metadata": {},
   "outputs": [
    {
     "data": {
      "image/png": "[encoded data removed]",
      "text/plain": [
       "<Figure size 640x480 with 1 Axes>"
      ]
     },
     "metadata": {},
     "output_type": "display_data"
    }
   ],
   "source": [
    "# In matplotlib, there are a couple of ways to control the aspect ratio between the x and y axes of your plot. \n",
    "\n",
    "# Here's how you can achieve this:\n",
    "\n",
    "# a) Using set_aspect:\n",
    "\n",
    "# The set_aspect method of the axes object allows you to define the aspect ratio of the plot. It takes a numeric value\n",
    "# or a string argument:\n",
    "#     Numeric value: This value represents the ratio of the y-unit to the x-unit. For example, ax.set_aspect(2) would make \n",
    "#         the y-axis unit twice as long as the x-axis unit, resulting in a taller plot.\n",
    "#     String argument: Matplotlib offers predefined options:\n",
    "#     * \"equal\": Sets the aspect ratio to 1, making the units on both axes equal.\n",
    "#     * \"auto\": Tries to fit the data within the plot area while maintaining a reasonable aspect ratio.\n",
    "        \n",
    "# example:\n",
    "import matplotlib.pyplot as plt\n",
    "fig, ax = plt.subplots()\n",
    "\n",
    "# Sample data with different scales\n",
    "x = [1, 2, 3]\n",
    "y = [10, 20, 30]\n",
    "\n",
    "# Plot the data\n",
    "ax.plot(x, y)\n",
    "\n",
    "# Adjust aspect ratio (taller plot)\n",
    "ax.set_aspect(2)\n",
    "\n",
    "plt.show()"
   ]
  },
  {
   "cell_type": "code",
   "execution_count": 8,
   "id": "9fec004c",
   "metadata": {},
   "outputs": [
    {
     "data": {
      "image/png": "[encoded data removed]",
      "text/plain": [
       "<Figure size 640x480 with 1 Axes>"
      ]
     },
     "metadata": {},
     "output_type": "display_data"
    }
   ],
   "source": [
    "# b) Using adjustable='box' with set_aspect:\n",
    "\n",
    "# This approach allows you to adjust the aspect ratio while keeping the data points within the plotting area.\n",
    "\n",
    "# example:\n",
    "import matplotlib.pyplot as plt\n",
    "fig, ax = plt.subplots()\n",
    "\n",
    "# Sample data with different scales\n",
    "x = [1, 2, 3]\n",
    "y = [10, 20, 30]\n",
    "\n",
    "# Plot the data\n",
    "ax.plot(x, y)\n",
    "\n",
    "# Adjust aspect ratio with adjustable='box' (maintain data in plot area)\n",
    "ax.set_aspect('equal', adjustable='box')\n",
    "\n",
    "plt.show()"
   ]
  },
  {
   "cell_type": "code",
   "execution_count": 9,
   "id": "683bd0be",
   "metadata": {},
   "outputs": [],
   "source": [
    "# c) Manually adjusting axis limits:\n",
    "\n",
    "# You can directly control the axis limits using set_xlim and set_ylim for the x and y axes, respectively. This gives you more \n",
    "# granular control over the scaling but requires careful adjustment to achieve the desired aspect ratio.\n",
    "\n",
    "# Choosing the Right Method:\n",
    "\n",
    "# 1. set_aspect('equal') is a good choice for ensuring equal scaling on both axes.\n",
    "# 2. set_aspect with a numeric value offers flexibility for specific aspect ratios.\n",
    "# 3. set_aspect('auto') can be a starting point, but you might need further adjustments.\n",
    "# 4. Manual axis limits provide the most control but require more effort."
   ]
  },
  {
   "cell_type": "markdown",
   "id": "36dfd8ff",
   "metadata": {},
   "source": [
    "# 5."
   ]
  },
  {
   "cell_type": "code",
   "execution_count": 10,
   "id": "2dba50b7",
   "metadata": {},
   "outputs": [
    {
     "name": "stdout",
     "output_type": "stream",
     "text": [
      "[[ 5 12]\n",
      " [21 32]]\n"
     ]
    }
   ],
   "source": [
    "# Here's a comparison and contrast of the three types of array multiplication in NumPy:\n",
    "\n",
    "# a) Regular Multiplication (Element-wise Multiplication):\n",
    "\n",
    "# 1. Concept: This performs multiplication between corresponding elements of two arrays with the same shape.\n",
    "# 2. Shape Compatibility: Arrays must have the same dimensions (number of rows and columns must match).\n",
    "# 3. Output Shape: The resulting array has the same dimensions as the input arrays.\n",
    "# 4. Functionality: It multiplies each element at the same position in both arrays.\n",
    "    \n",
    "# example:\n",
    "import numpy as np\n",
    "\n",
    "arr1 = np.array([[1, 2], [3, 4]])\n",
    "arr2 = np.array([[5, 6], [7, 8]])\n",
    "\n",
    "result = arr1 * arr2\n",
    "print(result)"
   ]
  },
  {
   "cell_type": "code",
   "execution_count": 11,
   "id": "29f4a528",
   "metadata": {},
   "outputs": [
    {
     "name": "stdout",
     "output_type": "stream",
     "text": [
      "32\n",
      "32\n"
     ]
    }
   ],
   "source": [
    "# b) 2. Dot Product:\n",
    "\n",
    "# 1. Concept: This calculates the scalar product of two one-dimensional arrays or the matrix product of two two-dimensional arrays.\n",
    "# 2. Shape Compatibility:\n",
    "#     For one-dimensional arrays (vectors), both arrays must have the same size.\n",
    "#     For two-dimensional arrays (matrices), the number of columns in the first array must equal the number of rows in the second array.\n",
    "# 3. Output Shape:\n",
    "#     For vectors, the output is a single scalar value.\n",
    "#     For matrices, the output has dimensions (number of rows in the first array, number of columns in the second array).\n",
    "# 4. Functionality: It calculates the sum of the products of corresponding elements from each array.\n",
    "    \n",
    "# example:\n",
    "import numpy as np\n",
    "\n",
    "arr1 = np.array([1, 2, 3])\n",
    "arr2 = np.array([4, 5, 6])\n",
    "\n",
    "# Dot product of vectors\n",
    "result_vector = np.dot(arr1, arr2)\n",
    "print(result_vector)  # Output: 32\n",
    "\n",
    "# Dot product of matrices (assuming arr1.shape is (2, 3))\n",
    "result_matrix = np.dot(arr1, np.transpose(arr2))  # Assuming arr2 needs to be transposed\n",
    "print(result_matrix)  # Output will depend on the specific values in arr1 and arr2 (e.g., a 2x3 matrix)"
   ]
  },
  {
   "cell_type": "code",
   "execution_count": 12,
   "id": "31c7a3b9",
   "metadata": {},
   "outputs": [
    {
     "name": "stdout",
     "output_type": "stream",
     "text": [
      "[[3 4]\n",
      " [6 8]]\n"
     ]
    }
   ],
   "source": [
    "# c) 3. Outer Product:\n",
    "\n",
    "# 1. Concept: This creates a new array by performing the outer product of two vectors. For each element in the first array, \n",
    "#     it multiplies it with the entire second array, stacking the results as rows in a new matrix.\n",
    "# 2. Shape Compatibility: No specific shape requirements, but the output depends on the input shapes.\n",
    "# 3. Output Shape: The resulting array has dimensions (len(array1), len(array2)).\n",
    "# 4. Functionality: It creates a new matrix by multiplying each element in the first array with all the elements in the \n",
    "#     second array, stacking the results as rows.\n",
    "    \n",
    "# example:\n",
    "import numpy as np\n",
    "\n",
    "arr1 = np.array([1, 2])\n",
    "arr2 = np.array([3, 4])\n",
    "\n",
    "result = np.outer(arr1, arr2)\n",
    "print(result)"
   ]
  },
  {
   "cell_type": "markdown",
   "id": "b781ffc5",
   "metadata": {},
   "source": [
    "# 6."
   ]
  },
  {
   "cell_type": "code",
   "execution_count": 13,
   "id": "836bc507",
   "metadata": {},
   "outputs": [],
   "source": [
    "# The ideal NumPy function to calculate your monthly mortgage payment before buying a home is:\n",
    "\n",
    "# -> numpy.pmt(rate, nper, pv)\n",
    "\n",
    "# Here's why:\n",
    "\n",
    "# 1. Functionality: This function calculates the periodic payment for a loan given the following:\n",
    "\n",
    "# rate: The periodic interest rate (usually monthly interest rate).\n",
    "# nper: The total number of payment periods (total number of months in your mortgage).\n",
    "# pv: The present value of the loan (the amount you borrow).\n",
    "\n",
    "# 2. Mortgage Application: In a mortgage scenario, you're interested in the monthly payment you'll need to make to repay \n",
    "#     the loan (present value) over a specific number of periods (total loan duration in months) considering the interest rate.\n",
    "#     This perfectly aligns with the parameters of the numpy.pmt function.\n",
    "\n",
    "# 3. Output: The function returns the fixed monthly payment you'll need to make to fully repay the loan, including principal \n",
    "#     and interest."
   ]
  },
  {
   "cell_type": "markdown",
   "id": "89bb82db",
   "metadata": {},
   "source": [
    "# 7."
   ]
  },
  {
   "cell_type": "code",
   "execution_count": 14,
   "id": "4821d52d",
   "metadata": {},
   "outputs": [],
   "source": [
    "# Yes, string data can be stored in NumPy arrays using the dtype parameter set to 'str' or 'object'. However, there are \n",
    "# some restrictions and considerations when working with string data in NumPy arrays:\n",
    "\n",
    "# 1. Fixed Length: By default, NumPy arrays with string data have a fixed length for each element. This means that all strings\n",
    "#     in the array must have the same length. If a string exceeds this length, it will be truncated, and if it's shorter, \n",
    "#     it will be padded with null bytes.\n",
    "\n",
    "# 2. Memory Overhead: Storing string data in NumPy arrays can result in memory overhead, especially when dealing with large \n",
    "#     arrays of variable-length strings. This is because NumPy arrays are designed for homogeneous data types, and using \n",
    "#     strings can lead to memory inefficiencies.\n",
    "\n",
    "# 3. Limited String Operations: NumPy's support for string operations is limited compared to libraries like Pandas or built-in\n",
    "#     Python string methods. Operations that work efficiently with numerical data may not perform as well with string data in\n",
    "#     NumPy arrays.\n",
    "\n",
    "# 4. Performance Considerations: Depending on the size and complexity of the string data, performance may be affected when\n",
    "#     performing array-wide operations or computations. NumPy is optimized for numerical computations, and using it extensively \n",
    "#     for string manipulations may not be as efficient."
   ]
  },
  {
   "cell_type": "code",
   "execution_count": null,
   "id": "2771bbfa",
   "metadata": {},
   "outputs": [],
   "source": []
  }
 ],
 "metadata": {
  "kernelspec": {
   "display_name": "Python 3 (ipykernel)",
   "language": "python",
   "name": "python3"
  },
  "language_info": {
   "codemirror_mode": {
    "name": "ipython",
    "version": 3
   },
   "file_extension": ".py",
   "mimetype": "text/x-python",
   "name": "python",
   "nbconvert_exporter": "python",
   "pygments_lexer": "ipython3",
   "version": "3.11.5"
  }
 },
 "nbformat": 4,
 "nbformat_minor": 5
}
